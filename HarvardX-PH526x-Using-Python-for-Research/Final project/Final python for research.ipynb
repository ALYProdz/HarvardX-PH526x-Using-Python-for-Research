{
 "cells": [
  {
   "cell_type": "markdown",
   "id": "1b87fa3a",
   "metadata": {},
   "source": [
    "**Introduction:**\n",
    "\n",
    "In this project, the goal is to classify different physical activities (e.g., walking, climbing stairs) from tri-axial smartphone accelerometer data as accurately as possible. Different activities have been numbered with integers. We use the following encoding: 1 = standing, 2 = walking, 3 = stairs down, 4 = stairs up.\n",
    "\n",
    "**Training Datasets:**\n",
    "\n",
    "train_time_series.csv\n",
    "train_labels.csv\n",
    "The first file, train_time_series.csv, contains the raw accelerometer data, which has been collected using the Beiwe research platform, and it has the following format: timestamp, UTC time, accuracy, x, y, z. The timestamp column is used as time variable; the last three columns, here labeled x, y, and z, correspond to measurements of linear acceleration along each of the three orthogonal axes. The second file train_labels.csv has the following format: timestamp, UTC time, label. Because the accelerometers are sampled at high frequency, the labels in train_labels.csv are only provided for every 10th observation in train_time_series.csv.\n",
    "\n",
    "**Test Datasets:**\n",
    "\n",
    "test_time_series.csv\n",
    "test_labels.csv\n",
    "The file test_time_series.csv has the same format as the file train_time_series.csv and the data is unseen by the training and is for testing the prediction accuracy. An extra column label will be added based on the given x, y, z test data.\n",
    "\n",
    "**Key Steps:**\n",
    "    \n",
    "    Import all necessary modules and read in all datasets with read_csv method;\n",
    "Add one column label to train_time_series with the corresponding labels from train_labels using timestamp as time variable;\n",
    "Define covariates x, y, z and outcome label from train_time_series;\n",
    "Instantiate all desired classifiers;\n",
    "Fit the models and determine the cross-validated accuracy for logistic and random forest models and pick the more accurate model;\n",
    "Add one predicted column label to test_time_series;\n",
    "Replace the NaN in column label with corresponding labels from test_time_series in the test_labels dataframe.\n",
    "Run a k-nearest neighbors classifier and repeat step 6 and 7 and test the classification accuracy in Submission and identify knn is the most accurate model.\n",
    "Write test_labels to csv file.\n",
    "II. Methods: Logistic Regression, Random Forest Classifier, K-Nearest Neighbors Classifier\n",
    "The process will be shown in the following cells. The data cleaning techniques include dict( ), zip( ), and dropna( ) methods. Data exploration and visualization is implemented with matplotlib.pyplot. The output plot will show how each model performs in terms of classification accuracy. Finally we will adopt the model that presents higher accuracy scores.\n",
    "\n",
    "**Conclusion:**\n",
    "\n",
    "The project tests the prediction accuracty of three different classification models, namely logistic regression, random forest classifier and k-nearest neighbors classifier, on the data of tri-axial smartphone accelerometer. According to the plot shown, the random forest classifier performs better than the logistic classifier. Furthermore, by testing the k-nearest neighbors calssifier in the submission, we obtained 1% more accurate prediction. Therefore, the final submission uses the k-nearest neighbors classifier result."
   ]
  },
  {
   "cell_type": "code",
   "execution_count": 12,
   "id": "b94a0404",
   "metadata": {},
   "outputs": [],
   "source": [
    "#Step 1: Import all necessary modules and read in all datasets with read_csv method\n",
    "import pandas as pd\n",
    "import time\n",
    "import numpy as np\n",
    "from sklearn.model_selection import cross_val_score\n",
    "from sklearn.linear_model import LogisticRegression\n",
    "from sklearn.ensemble import RandomForestClassifier\n",
    "from sklearn.metrics import accuracy_score\n",
    "import matplotlib.pyplot as plt\n",
    "import warnings\n",
    "warnings.filterwarnings(\"ignore\")\n",
    "\n",
    "pd.set_option('display.max_rows', None)"
   ]
  },
  {
   "cell_type": "code",
   "execution_count": 13,
   "id": "75a339f1",
   "metadata": {},
   "outputs": [],
   "source": [
    "train_label = pd.read_csv(\"train_labels.csv\")"
   ]
  },
  {
   "cell_type": "code",
   "execution_count": 14,
   "id": "b81e5725",
   "metadata": {},
   "outputs": [
    {
     "data": {
      "image/png": "[encoded data removed]",
      "text/plain": [
       "<Figure size 640x480 with 1 Axes>"
      ]
     },
     "metadata": {},
     "output_type": "display_data"
    },
    {
     "name": "stdout",
     "output_type": "stream",
     "text": [
      "--- 73.27549910545349 seconds ---\n"
     ]
    }
   ],
   "source": [
    "start_time = time.time()\n",
    "\n",
    "train_label = pd.read_csv(\"train_labels.csv\")\n",
    "train_time_series = pd.read_csv(\"train_time_series.csv\")\n",
    "test_time_series = pd.read_csv(\"test_time_series.csv\")\n",
    "test_label = pd.read_csv(\"test_labels.csv\")\n",
    "\n",
    "#Step 2: Add one column label to train_time_series with the corresponding labels from train_labels using timestamp \n",
    "# as time variable;\n",
    "\n",
    "dict_label = dict(zip(train_label['timestamp'], train_label['label']))\n",
    "train_time_series[\"label\"] = train_time_series.timestamp.map(dict_label)\n",
    "# Drop the NaN rows in train_time_series dataframe\n",
    "train_time_series.dropna(how=\"any\", inplace =True)\n",
    "\n",
    "\n",
    "#Step 3: Define covariates x, y, z and outcome label from train_time_series\n",
    "classification_target = 'label'\n",
    "classification_outcome = train_time_series[classification_target]\n",
    "all_covariates = [\"x\", \"y\", \"z\"]\n",
    "covariates = train_time_series[all_covariates]\n",
    "\n",
    "#Step 4: Instantiate all desired classifiers\n",
    "logistic_regression = LogisticRegression()\n",
    "forest_classifier = RandomForestClassifier(max_depth=5, random_state=0)\n",
    "\n",
    "\n",
    "#Step 5: Fit the models and determine the cross-validated accuracy for logistic and random forest models and pick \n",
    "# the more accurate model, which is Random Forest Classifier in this case\n",
    "\n",
    "def accuracy(estimator, X, y):\n",
    "    reg = estimator.fit(X, y)\n",
    "    predictions = reg.predict(X)\n",
    "    return accuracy_score(y, predictions)\n",
    "\n",
    "logistic_regression_scores = cross_val_score(logistic_regression, covariates, classification_outcome, cv =10, scoring=accuracy)\n",
    "forest_classification_scores = cross_val_score(forest_classifier, covariates, classification_outcome, cv =10, scoring=accuracy)\n",
    "\n",
    "# Plot Results\n",
    "plt.axes().set_aspect('equal', 'box')\n",
    "plt.scatter(logistic_regression_scores, forest_classification_scores)\n",
    "plt.plot((0, 1), (0, 1), 'k-')\n",
    "\n",
    "plt.xlim(0, 1)\n",
    "plt.ylim(0, 1)\n",
    "plt.xlabel(\"Linear Classification Score\")\n",
    "plt.ylabel(\"Forest Classification Score\")\n",
    "\n",
    "# Show the plot.\n",
    "plt.show()\n",
    "#Step 6: Add one predicted column label to test_time_series\n",
    "\n",
    "forest_classifier.fit(covariates, classification_outcome)\n",
    "test_time_series['label'] = forest_classifier.predict(test_time_series[all_covariates])\n",
    "test_time_series['label'] = test_time_series['label'].astype('int64')\n",
    "\n",
    "\n",
    "#Step 7: Replace the NaN in column label with corresponding labels from test_time_series in the test_labels dataframe\n",
    "\n",
    "dict_test_label = dict(zip(test_time_series['timestamp'], test_time_series['label']))\n",
    "test_label['label'] = test_time_series.timestamp.map(dict_test_label)\n",
    "\n",
    "\n",
    "#Step 8: Run a k-nearest neighbors classifier and repeat step 6 and 7 and test the classification accuracy in Submission and identify knn is the most accurate model.\n",
    "\n",
    "from sklearn.neighbors import KNeighborsClassifier\n",
    "\n",
    "knn = KNeighborsClassifier(n_neighbors = 5)\n",
    "knn.fit(covariates, classification_outcome)\n",
    "test_time_series['label'] = knn.predict(test_time_series[all_covariates])\n",
    "test_time_series['label'] = test_time_series['label'].astype('int64')\n",
    "\n",
    "dict_test_label = dict(zip(test_time_series['timestamp'], test_time_series['label']))\n",
    "test_label['label'] = test_time_series.timestamp.map(dict_test_label)\n",
    "\n",
    "#Step 9: Write test_labels to csv file.\n",
    "\n",
    "test_label.to_csv(\"test_label_final.csv\")\n",
    "\n",
    "print(\"--- %s seconds ---\" % (time.time() - start_time))"
   ]
  },
  {
   "cell_type": "code",
   "execution_count": null,
   "id": "0eacd2ba",
   "metadata": {},
   "outputs": [],
   "source": []
  },
  {
   "cell_type": "code",
   "execution_count": null,
   "id": "889d96f2",
   "metadata": {},
   "outputs": [],
   "source": []
  },
  {
   "cell_type": "code",
   "execution_count": null,
   "id": "92313a6f",
   "metadata": {},
   "outputs": [],
   "source": []
  },
  {
   "cell_type": "markdown",
   "id": "34ab497d",
   "metadata": {},
   "source": []
  },
  {
   "cell_type": "markdown",
   "id": "554b21fa",
   "metadata": {},
   "source": []
  },
  {
   "cell_type": "code",
   "execution_count": null,
   "id": "eea3cf2d",
   "metadata": {},
   "outputs": [],
   "source": []
  }
 ],
 "metadata": {
  "kernelspec": {
   "display_name": "Python 3 (ipykernel)",
   "language": "python",
   "name": "python3"
  },
  "language_info": {
   "codemirror_mode": {
    "name": "ipython",
    "version": 3
   },
   "file_extension": ".py",
   "mimetype": "text/x-python",
   "name": "python",
   "nbconvert_exporter": "python",
   "pygments_lexer": "ipython3",
   "version": "3.10.9"
  }
 },
 "nbformat": 4,
 "nbformat_minor": 5
}
